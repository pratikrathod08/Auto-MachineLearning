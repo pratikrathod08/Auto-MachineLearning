{
 "cells": [
  {
   "cell_type": "code",
   "execution_count": 1,
   "metadata": {},
   "outputs": [],
   "source": [
    "from auto_machinelearning.ml.regression.components.data_ingestion import DataIngestion\n",
    "\n",
    "data_ingestion = DataIngestion(r\"D:\\PRATIK\\Product\\Auto-MachineLearning\\research\\output\\processed.csv\", file_type=\"csv\")"
   ]
  },
  {
   "cell_type": "code",
   "execution_count": 2,
   "metadata": {},
   "outputs": [],
   "source": [
    "artifacts = data_ingestion.run_data_ingestion()"
   ]
  },
  {
   "cell_type": "code",
   "execution_count": 3,
   "metadata": {},
   "outputs": [
    {
     "name": "stdout",
     "output_type": "stream",
     "text": [
      "✅ Full DataFrame:\n",
      "       area_type  availability  location  size  society  total_sqft  bath  \\\n",
      "0            3.0          40.0     419.0  13.0    464.0        70.0   2.0   \n",
      "1            2.0          80.0     317.0  19.0   2439.0      1288.0   5.0   \n",
      "2            0.0          80.0    1179.0  16.0    806.0       514.0   2.0   \n",
      "3            3.0          80.0     757.0  16.0   2186.0       602.0   3.0   \n",
      "4            3.0          80.0     716.0  13.0    806.0       239.0   2.0   \n",
      "...          ...           ...       ...   ...      ...         ...   ...   \n",
      "13315        0.0          80.0    1252.0  22.0    209.0      1499.0   4.0   \n",
      "13316        3.0          80.0    1004.0  18.0    806.0      1535.0   5.0   \n",
      "13317        0.0          80.0     972.0  13.0   1216.0       172.0   2.0   \n",
      "13318        3.0          32.0     907.0  18.0   2205.0      1680.0   4.0   \n",
      "13319        3.0          80.0     396.0   0.0    806.0      1747.0   1.0   \n",
      "\n",
      "        balcony   price  \n",
      "0      1.000000   39.07  \n",
      "1      3.000000  120.00  \n",
      "2      3.000000   62.00  \n",
      "3      1.000000   95.00  \n",
      "4      1.000000   51.00  \n",
      "...         ...     ...  \n",
      "13315  0.000000  231.00  \n",
      "13316  1.878179  400.00  \n",
      "13317  1.000000   60.00  \n",
      "13318  1.000000  488.00  \n",
      "13319  1.000000   17.00  \n",
      "\n",
      "[13320 rows x 9 columns]\n",
      "\n",
      "✅ Train DataFrame:\n",
      "       area_type  availability  location  size  society  total_sqft  bath  \\\n",
      "3411         3.0          80.0     757.0  16.0   2186.0       610.0   2.0   \n",
      "9142         3.0          80.0     346.0  13.0    806.0       369.0   2.0   \n",
      "1971         3.0          80.0     972.0  16.0    806.0       610.0   3.0   \n",
      "2608         2.0          80.0     194.0  19.0    806.0      1208.0   3.0   \n",
      "9635         0.0          40.0     658.0  13.0    773.0        28.0   2.0   \n",
      "...          ...           ...       ...   ...      ...         ...   ...   \n",
      "11964        2.0          80.0    1188.0  22.0    806.0       239.0   4.0   \n",
      "5191         3.0          69.0     707.0  16.0   2245.0       642.0   3.0   \n",
      "5390         3.0          80.0     443.0  13.0    806.0        74.0   2.0   \n",
      "860          2.0          80.0     972.0  24.0    806.0       239.0   4.0   \n",
      "7270         3.0          80.0    1080.0  16.0   1908.0       949.0   3.0   \n",
      "\n",
      "       balcony  price  \n",
      "3411       2.0   90.0  \n",
      "9142       2.0  111.0  \n",
      "1971       2.0   57.0  \n",
      "2608       2.0  370.0  \n",
      "9635       1.0   66.0  \n",
      "...        ...    ...  \n",
      "11964      1.0   99.0  \n",
      "5191       2.0  120.0  \n",
      "5390       1.0   48.5  \n",
      "860        2.0  125.0  \n",
      "7270       3.0   90.0  \n",
      "\n",
      "[10656 rows x 9 columns]\n",
      "\n",
      "✅ Test DataFrame:\n",
      "       area_type  availability  location  size  society  total_sqft  bath  \\\n",
      "8077         0.0          80.0     212.0  14.0    806.0        62.0   2.0   \n",
      "1602         3.0          80.0     986.0  16.0   1676.0       779.0   3.0   \n",
      "10498        0.0          80.0     513.0  13.0    806.0       119.0   2.0   \n",
      "3297         2.0          80.0     832.0  24.0    806.0       239.0   4.0   \n",
      "8893         0.0          26.0     336.0  19.0   1083.0      1224.0   3.0   \n",
      "...          ...           ...       ...   ...      ...         ...   ...   \n",
      "1082         3.0          32.0     121.0   0.0    806.0      1707.0   1.0   \n",
      "1671         0.0          80.0     523.0  22.0    806.0       884.0   6.0   \n",
      "4325         3.0          80.0      80.0  16.0    806.0       884.0   3.0   \n",
      "7375         3.0          80.0    1229.0  13.0    806.0       239.0   2.0   \n",
      "5152         2.0          80.0     948.0  17.0    806.0       170.0   3.0   \n",
      "\n",
      "       balcony  price  \n",
      "8077       1.0   64.8  \n",
      "1602       1.0  125.0  \n",
      "10498      1.0   60.0  \n",
      "3297       2.0  110.0  \n",
      "8893       1.0  210.0  \n",
      "...        ...    ...  \n",
      "1082       1.0   14.0  \n",
      "1671       0.0   44.5  \n",
      "4325       3.0   65.0  \n",
      "7375       2.0   52.0  \n",
      "5152       1.0  130.0  \n",
      "\n",
      "[2664 rows x 9 columns]\n"
     ]
    }
   ],
   "source": [
    "print(\"✅ Full DataFrame:\")\n",
    "print(artifacts.df)\n",
    "\n",
    "print(\"\\n✅ Train DataFrame:\")\n",
    "print(artifacts.train_df)\n",
    "\n",
    "print(\"\\n✅ Test DataFrame:\")\n",
    "print(artifacts.test_df)"
   ]
  },
  {
   "cell_type": "code",
   "execution_count": 4,
   "metadata": {},
   "outputs": [],
   "source": [
    "from auto_machinelearning.ml.regression.components.data_transformation import DataTransformation\n",
    "\n",
    "data_transformation = DataTransformation(artifacts, target_column=\"price\")\n"
   ]
  },
  {
   "cell_type": "code",
   "execution_count": 5,
   "metadata": {},
   "outputs": [],
   "source": [
    "data_transformation_artifacts = data_transformation.run_data_transformation()"
   ]
  },
  {
   "cell_type": "code",
   "execution_count": 6,
   "metadata": {},
   "outputs": [
    {
     "name": "stdout",
     "output_type": "stream",
     "text": [
      "X train : \n",
      "       area_type  availability  location  size  society  total_sqft  bath  \\\n",
      "3411         3.0          80.0     757.0  16.0   2186.0       610.0   2.0   \n",
      "9142         3.0          80.0     346.0  13.0    806.0       369.0   2.0   \n",
      "1971         3.0          80.0     972.0  16.0    806.0       610.0   3.0   \n",
      "2608         2.0          80.0     194.0  19.0    806.0      1208.0   3.0   \n",
      "9635         0.0          40.0     658.0  13.0    773.0        28.0   2.0   \n",
      "...          ...           ...       ...   ...      ...         ...   ...   \n",
      "11964        2.0          80.0    1188.0  22.0    806.0       239.0   4.0   \n",
      "5191         3.0          69.0     707.0  16.0   2245.0       642.0   3.0   \n",
      "5390         3.0          80.0     443.0  13.0    806.0        74.0   2.0   \n",
      "860          2.0          80.0     972.0  24.0    806.0       239.0   4.0   \n",
      "7270         3.0          80.0    1080.0  16.0   1908.0       949.0   3.0   \n",
      "\n",
      "       balcony  \n",
      "3411       2.0  \n",
      "9142       2.0  \n",
      "1971       2.0  \n",
      "2608       2.0  \n",
      "9635       1.0  \n",
      "...        ...  \n",
      "11964      1.0  \n",
      "5191       2.0  \n",
      "5390       1.0  \n",
      "860        2.0  \n",
      "7270       3.0  \n",
      "\n",
      "[10656 rows x 8 columns]\n",
      "X test : \n",
      "       area_type  availability  location  size  society  total_sqft  bath  \\\n",
      "8077         0.0          80.0     212.0  14.0    806.0        62.0   2.0   \n",
      "1602         3.0          80.0     986.0  16.0   1676.0       779.0   3.0   \n",
      "10498        0.0          80.0     513.0  13.0    806.0       119.0   2.0   \n",
      "3297         2.0          80.0     832.0  24.0    806.0       239.0   4.0   \n",
      "8893         0.0          26.0     336.0  19.0   1083.0      1224.0   3.0   \n",
      "...          ...           ...       ...   ...      ...         ...   ...   \n",
      "1082         3.0          32.0     121.0   0.0    806.0      1707.0   1.0   \n",
      "1671         0.0          80.0     523.0  22.0    806.0       884.0   6.0   \n",
      "4325         3.0          80.0      80.0  16.0    806.0       884.0   3.0   \n",
      "7375         3.0          80.0    1229.0  13.0    806.0       239.0   2.0   \n",
      "5152         2.0          80.0     948.0  17.0    806.0       170.0   3.0   \n",
      "\n",
      "       balcony  \n",
      "8077       1.0  \n",
      "1602       1.0  \n",
      "10498      1.0  \n",
      "3297       2.0  \n",
      "8893       1.0  \n",
      "...        ...  \n",
      "1082       1.0  \n",
      "1671       0.0  \n",
      "4325       3.0  \n",
      "7375       2.0  \n",
      "5152       1.0  \n",
      "\n",
      "[2664 rows x 8 columns]\n",
      "y train : \n",
      "       price\n",
      "3411    90.0\n",
      "9142   111.0\n",
      "1971    57.0\n",
      "2608   370.0\n",
      "9635    66.0\n",
      "...      ...\n",
      "11964   99.0\n",
      "5191   120.0\n",
      "5390    48.5\n",
      "860    125.0\n",
      "7270    90.0\n",
      "\n",
      "[10656 rows x 1 columns]\n",
      "y test : \n",
      "       price\n",
      "8077    64.8\n",
      "1602   125.0\n",
      "10498   60.0\n",
      "3297   110.0\n",
      "8893   210.0\n",
      "...      ...\n",
      "1082    14.0\n",
      "1671    44.5\n",
      "4325    65.0\n",
      "7375    52.0\n",
      "5152   130.0\n",
      "\n",
      "[2664 rows x 1 columns]\n"
     ]
    }
   ],
   "source": [
    "## X_train \n",
    "print(\"X train : \")\n",
    "print(data_transformation_artifacts.X_train)\n",
    "\n",
    "## X_test \n",
    "print(\"X test : \")\n",
    "print(data_transformation_artifacts.X_test)\n",
    "\n",
    "## y_train \n",
    "print(\"y train : \")\n",
    "print(data_transformation_artifacts.y_train) \n",
    "\n",
    "## y_test\n",
    "print(\"y test : \") \n",
    "print(data_transformation_artifacts.y_test)"
   ]
  },
  {
   "cell_type": "code",
   "execution_count": 7,
   "metadata": {},
   "outputs": [
    {
     "data": {
      "text/plain": [
       "{'Linear Regression': {},\n",
       " 'Decision Tree': {'max_depth': [None, 5, 10],\n",
       "  'min_samples_split': [2, 5, 10, 20],\n",
       "  'min_samples_leaf': [1, 5, 10, 20],\n",
       "  'max_features': ['sqrt', 'log2'],\n",
       "  'criterion': ['squared_error', 'friedman_mse']},\n",
       " 'Random Forest': {'n_estimators': [100, 200],\n",
       "  'max_depth': [None, 5, 10],\n",
       "  'min_samples_split': [2, 5],\n",
       "  'min_samples_leaf': [1, 2, 4],\n",
       "  'max_features': ['sqrt', 'log2'],\n",
       "  'bootstrap': [True, False]},\n",
       " 'Gradiant Boosting': {'n_estimators': [100, 200],\n",
       "  'learning_rate': [0.01, 0.1],\n",
       "  'max_depth': [3, 5],\n",
       "  'min_samples_split': [2, 5],\n",
       "  'min_samples_leaf': [1, 3],\n",
       "  'max_features': ['sqrt', 'log2'],\n",
       "  'subsample': [0.7, 0.8]},\n",
       " 'Ridge Regression': {'alpha': [0.001, 0.01]}}"
      ]
     },
     "execution_count": 7,
     "metadata": {},
     "output_type": "execute_result"
    }
   ],
   "source": [
    "from auto_machinelearning.ml.regression.utils import load_model_params\n",
    "\n",
    "load_model_params(r\"D:\\PRATIK\\Product\\Auto-MachineLearning\\auto_machinelearning\\ml\\regression\\model_params.yaml\")"
   ]
  },
  {
   "cell_type": "code",
   "execution_count": 8,
   "metadata": {},
   "outputs": [
    {
     "name": "stderr",
     "output_type": "stream",
     "text": [
      "d:\\PRATIK\\Product\\Auto-MachineLearning\\venv\\Lib\\site-packages\\sklearn\\model_selection\\_search.py:317: UserWarning: The total space of parameters 2 is smaller than n_iter=20. Running 2 iterations. For exhaustive searches, use GridSearchCV.\n",
      "  warnings.warn(\n"
     ]
    },
    {
     "name": "stdout",
     "output_type": "stream",
     "text": [
      "Fitting 3 folds for each of 2 candidates, totalling 6 fits\n",
      "Fitting 3 folds for each of 20 candidates, totalling 60 fits\n",
      "Fitting 3 folds for each of 20 candidates, totalling 60 fits\n"
     ]
    },
    {
     "name": "stderr",
     "output_type": "stream",
     "text": [
      "d:\\PRATIK\\Product\\Auto-MachineLearning\\venv\\Lib\\site-packages\\sklearn\\base.py:1365: DataConversionWarning: A column-vector y was passed when a 1d array was expected. Please change the shape of y to (n_samples,), for example using ravel().\n",
      "  return fit_method(estimator, *args, **kwargs)\n",
      "[Parallel(n_jobs=1)]: Done  49 tasks      | elapsed:    1.5s\n",
      "[Parallel(n_jobs=1)]: Done 100 out of 100 | elapsed:    3.1s finished\n",
      "[Parallel(n_jobs=1)]: Done  49 tasks      | elapsed:    0.1s\n",
      "[Parallel(n_jobs=1)]: Done 100 out of 100 | elapsed:    0.3s finished\n",
      "[Parallel(n_jobs=1)]: Done  49 tasks      | elapsed:    0.0s\n",
      "[Parallel(n_jobs=1)]: Done 100 out of 100 | elapsed:    0.0s finished\n"
     ]
    },
    {
     "name": "stdout",
     "output_type": "stream",
     "text": [
      "Fitting 3 folds for each of 20 candidates, totalling 60 fits\n"
     ]
    },
    {
     "name": "stderr",
     "output_type": "stream",
     "text": [
      "d:\\PRATIK\\Product\\Auto-MachineLearning\\venv\\Lib\\site-packages\\sklearn\\ensemble\\_gb.py:672: DataConversionWarning: A column-vector y was passed when a 1d array was expected. Please change the shape of y to (n_samples, ), for example using ravel().\n",
      "  y = column_or_1d(y, warn=True)  # TODO: Is this still required?\n"
     ]
    },
    {
     "name": "stdout",
     "output_type": "stream",
     "text": [
      "      Iter       Train Loss      OOB Improve   Remaining Time \n",
      "         1       19721.6611        1227.1982            1.11s\n",
      "         2       19905.8955        7843.9916            1.17s\n",
      "         3       19126.2777        3273.1650            1.12s\n",
      "         4       16474.4259       -5385.5562            1.06s\n",
      "         5       16533.0753        5712.1437            1.01s\n",
      "         6       15213.4659       -1354.7374            1.00s\n",
      "         7       14220.5614        -636.8642            1.00s\n",
      "         8       13489.8121         170.3924            0.99s\n",
      "         9       12758.3458         172.5837            0.99s\n",
      "        10       12460.0224        2227.0221            0.96s\n",
      "        20        9741.3875        -746.3116            0.90s\n",
      "        30        7938.9062        1515.5114            0.82s\n",
      "        40        6847.8986        1502.2478            0.69s\n",
      "        50        6345.3596       -2584.5360            0.58s\n",
      "        60        5983.0108           4.3215            0.46s\n",
      "        70        5211.1179       -1634.9879            0.37s\n",
      "        80        5232.9308         290.5250            0.24s\n",
      "        90        4489.1916       -1559.6169            0.12s\n",
      "       100        4341.0435        -781.7101            0.00s\n"
     ]
    },
    {
     "name": "stderr",
     "output_type": "stream",
     "text": [
      "[Parallel(n_jobs=1)]: Done  49 tasks      | elapsed:    0.1s\n",
      "[Parallel(n_jobs=1)]: Done 100 out of 100 | elapsed:    0.3s finished\n",
      "[Parallel(n_jobs=1)]: Done  49 tasks      | elapsed:    0.0s\n",
      "[Parallel(n_jobs=1)]: Done 100 out of 100 | elapsed:    0.0s finished\n"
     ]
    }
   ],
   "source": [
    "from auto_machinelearning.ml.regression.components.model_trainer import ModelTrainer\n",
    " \n",
    "model_trainer = ModelTrainer(data_transformation_artifacts)\n",
    "model_trainer_artifacts = model_trainer.train_model()"
   ]
  },
  {
   "cell_type": "code",
   "execution_count": 9,
   "metadata": {},
   "outputs": [
    {
     "name": "stdout",
     "output_type": "stream",
     "text": [
      "ModelTrainerArtifact(trained_model=RandomForestRegressor(max_features='log2', verbose=1), best_model_name='Random Forest', best_model_parameters={'bootstrap': True, 'ccp_alpha': 0.0, 'criterion': 'squared_error', 'max_depth': None, 'max_features': 'log2', 'max_leaf_nodes': None, 'max_samples': None, 'min_impurity_decrease': 0.0, 'min_samples_leaf': 1, 'min_samples_split': 2, 'min_weight_fraction_leaf': 0.0, 'monotonic_cst': None, 'n_estimators': 100, 'n_jobs': None, 'oob_score': False, 'random_state': None, 'verbose': 1, 'warm_start': False}, models_report={'Linear Regression': np.float64(128.18816294292915), 'Ridge Regression': np.float64(128.18815684167527), 'Decision Tree': np.float64(118.63156479346108), 'Random Forest': np.float64(103.815677553205), 'Gradiant Boosting': np.float64(103.96352122370452)}, train_metric_artifact=RegressionMetrixArtifacts(mse=1506.1634404047936, rmse=np.float64(38.80932156589179), r2_score=0.9328063634663438), test_metric_artifact=RegressionMetrixArtifacts(mse=10777.694905831035, rmse=np.float64(103.815677553205), r2_score=0.49378006085764403))\n"
     ]
    }
   ],
   "source": [
    "print(model_trainer_artifacts)"
   ]
  },
  {
   "cell_type": "code",
   "execution_count": 10,
   "metadata": {},
   "outputs": [
    {
     "name": "stdout",
     "output_type": "stream",
     "text": [
      "RandomForestRegressor(max_features='log2', verbose=1)\n"
     ]
    }
   ],
   "source": [
    "print(model_trainer_artifacts.trained_model)"
   ]
  },
  {
   "cell_type": "code",
   "execution_count": 11,
   "metadata": {},
   "outputs": [
    {
     "name": "stdout",
     "output_type": "stream",
     "text": [
      "Training Artifacts : \n",
      "RegressionMetrixArtifacts(mse=1506.1634404047936, rmse=np.float64(38.80932156589179), r2_score=0.9328063634663438)\n",
      "Mean square error: \n",
      "1506.1634404047936\n",
      "Root mse : \n",
      "38.80932156589179\n",
      "R2_Score : \n",
      "0.9328063634663438\n",
      "Models report : \n",
      "{'Linear Regression': np.float64(128.18816294292915), 'Ridge Regression': np.float64(128.18815684167527), 'Decision Tree': np.float64(118.63156479346108), 'Random Forest': np.float64(103.815677553205), 'Gradiant Boosting': np.float64(103.96352122370452)}\n",
      "Best model name : \n",
      "Random Forest\n",
      "Best model parameters : \n",
      "{'bootstrap': True, 'ccp_alpha': 0.0, 'criterion': 'squared_error', 'max_depth': None, 'max_features': 'log2', 'max_leaf_nodes': None, 'max_samples': None, 'min_impurity_decrease': 0.0, 'min_samples_leaf': 1, 'min_samples_split': 2, 'min_weight_fraction_leaf': 0.0, 'monotonic_cst': None, 'n_estimators': 100, 'n_jobs': None, 'oob_score': False, 'random_state': None, 'verbose': 1, 'warm_start': False}\n"
     ]
    }
   ],
   "source": [
    "print(\"Training Artifacts : \")\n",
    "print(model_trainer_artifacts.train_metric_artifact)\n",
    "\n",
    "print(\"Mean square error: \")\n",
    "print(model_trainer_artifacts.train_metric_artifact.mse)\n",
    "\n",
    "print(\"Root mse : \")\n",
    "print(model_trainer_artifacts.train_metric_artifact.rmse)\n",
    "\n",
    "print(\"R2_Score : \")\n",
    "print(model_trainer_artifacts.train_metric_artifact.r2_score)\n",
    "\n",
    "print(\"Models report : \")\n",
    "print(model_trainer_artifacts.models_report)\n",
    "\n",
    "print(\"Best model name : \")\n",
    "print(model_trainer_artifacts.best_model_name)\n",
    "\n",
    "print(\"Best model parameters : \")\n",
    "print(model_trainer_artifacts.best_model_parameters)"
   ]
  },
  {
   "cell_type": "code",
   "execution_count": 13,
   "metadata": {},
   "outputs": [],
   "source": [
    "## Import and run full pipeline \n",
    "\n",
    "from auto_machinelearning.ml.regression import AutoRegression\n",
    "\n",
    "regression = AutoRegression(path=r\"D:\\PRATIK\\Product\\Auto-MachineLearning\\research\\output\\processed.csv\", filetype=\"csv\", target_column=\"price\")"
   ]
  },
  {
   "cell_type": "code",
   "execution_count": 14,
   "metadata": {},
   "outputs": [
    {
     "name": "stderr",
     "output_type": "stream",
     "text": [
      "d:\\PRATIK\\Product\\Auto-MachineLearning\\venv\\Lib\\site-packages\\sklearn\\model_selection\\_search.py:317: UserWarning: The total space of parameters 2 is smaller than n_iter=20. Running 2 iterations. For exhaustive searches, use GridSearchCV.\n",
      "  warnings.warn(\n"
     ]
    },
    {
     "name": "stdout",
     "output_type": "stream",
     "text": [
      "Fitting 3 folds for each of 2 candidates, totalling 6 fits\n",
      "Fitting 3 folds for each of 20 candidates, totalling 60 fits\n",
      "Fitting 3 folds for each of 20 candidates, totalling 60 fits\n"
     ]
    },
    {
     "name": "stderr",
     "output_type": "stream",
     "text": [
      "d:\\PRATIK\\Product\\Auto-MachineLearning\\venv\\Lib\\site-packages\\sklearn\\base.py:1365: DataConversionWarning: A column-vector y was passed when a 1d array was expected. Please change the shape of y to (n_samples,), for example using ravel().\n",
      "  return fit_method(estimator, *args, **kwargs)\n",
      "[Parallel(n_jobs=1)]: Done  49 tasks      | elapsed:    1.4s\n",
      "[Parallel(n_jobs=1)]: Done 100 out of 100 | elapsed:    3.0s finished\n",
      "[Parallel(n_jobs=1)]: Done  49 tasks      | elapsed:    0.1s\n",
      "[Parallel(n_jobs=1)]: Done 100 out of 100 | elapsed:    0.3s finished\n",
      "[Parallel(n_jobs=1)]: Done  49 tasks      | elapsed:    0.0s\n",
      "[Parallel(n_jobs=1)]: Done 100 out of 100 | elapsed:    0.0s finished\n"
     ]
    },
    {
     "name": "stdout",
     "output_type": "stream",
     "text": [
      "Fitting 3 folds for each of 20 candidates, totalling 60 fits\n"
     ]
    },
    {
     "name": "stderr",
     "output_type": "stream",
     "text": [
      "d:\\PRATIK\\Product\\Auto-MachineLearning\\venv\\Lib\\site-packages\\sklearn\\ensemble\\_gb.py:672: DataConversionWarning: A column-vector y was passed when a 1d array was expected. Please change the shape of y to (n_samples, ), for example using ravel().\n",
      "  y = column_or_1d(y, warn=True)  # TODO: Is this still required?\n"
     ]
    },
    {
     "name": "stdout",
     "output_type": "stream",
     "text": [
      "      Iter       Train Loss      OOB Improve   Remaining Time \n",
      "         1       19592.2765        1373.0367            0.83s\n",
      "         2       20797.7203        6681.3586            0.82s\n",
      "         3       20203.4396        3146.6159            0.82s\n",
      "         4       19353.5521        1508.3715            0.77s\n",
      "         5       16172.5819       -5092.2406            0.76s\n",
      "         6       16069.8243        2379.4575            0.75s\n",
      "         7       13707.5052       -2994.6233            0.75s\n",
      "         8       15376.1639        6858.6729            0.73s\n",
      "         9       13959.4254       -1466.4907            0.73s\n",
      "        10       12596.2149       -1722.4948            0.72s\n",
      "        20       11429.1534        3028.5863            0.64s\n",
      "        30        9585.2882        -326.2001            0.57s\n",
      "        40        8713.6388         171.0875            0.49s\n",
      "        50        6191.6553       -2198.4061            0.41s\n",
      "        60        7040.6605        1487.7169            0.33s\n",
      "        70        6160.3902        -105.6003            0.24s\n",
      "        80        6192.6817        -553.0217            0.16s\n",
      "        90        6110.0652        2020.5338            0.08s\n",
      "       100        4913.4529       -1129.8046            0.00s\n"
     ]
    },
    {
     "name": "stderr",
     "output_type": "stream",
     "text": [
      "[Parallel(n_jobs=1)]: Done  49 tasks      | elapsed:    0.1s\n",
      "[Parallel(n_jobs=1)]: Done 100 out of 100 | elapsed:    0.3s finished\n",
      "[Parallel(n_jobs=1)]: Done  49 tasks      | elapsed:    0.0s\n",
      "[Parallel(n_jobs=1)]: Done 100 out of 100 | elapsed:    0.0s finished\n"
     ]
    }
   ],
   "source": [
    "regression_result = regression.train_model()"
   ]
  },
  {
   "cell_type": "code",
   "execution_count": 15,
   "metadata": {},
   "outputs": [
    {
     "data": {
      "text/plain": [
       "{'best_model_name': 'Random Forest',\n",
       " 'model': RandomForestRegressor(max_features='log2', verbose=1),\n",
       " 'model_params': {'bootstrap': True,\n",
       "  'ccp_alpha': 0.0,\n",
       "  'criterion': 'squared_error',\n",
       "  'max_depth': None,\n",
       "  'max_features': 'log2',\n",
       "  'max_leaf_nodes': None,\n",
       "  'max_samples': None,\n",
       "  'min_impurity_decrease': 0.0,\n",
       "  'min_samples_leaf': 1,\n",
       "  'min_samples_split': 2,\n",
       "  'min_weight_fraction_leaf': 0.0,\n",
       "  'monotonic_cst': None,\n",
       "  'n_estimators': 100,\n",
       "  'n_jobs': None,\n",
       "  'oob_score': False,\n",
       "  'random_state': None,\n",
       "  'verbose': 1,\n",
       "  'warm_start': False},\n",
       " 'r2_score': 0.9251414998837115,\n",
       " 'rmse': np.float64(40.96307385601382),\n",
       " 'mse': 1677.9734197332432}"
      ]
     },
     "execution_count": 15,
     "metadata": {},
     "output_type": "execute_result"
    }
   ],
   "source": [
    "regression_result"
   ]
  },
  {
   "cell_type": "code",
   "execution_count": null,
   "metadata": {},
   "outputs": [],
   "source": []
  }
 ],
 "metadata": {
  "kernelspec": {
   "display_name": "venv",
   "language": "python",
   "name": "python3"
  },
  "language_info": {
   "codemirror_mode": {
    "name": "ipython",
    "version": 3
   },
   "file_extension": ".py",
   "mimetype": "text/x-python",
   "name": "python",
   "nbconvert_exporter": "python",
   "pygments_lexer": "ipython3",
   "version": "3.12.3"
  },
  "orig_nbformat": 4
 },
 "nbformat": 4,
 "nbformat_minor": 2
}
