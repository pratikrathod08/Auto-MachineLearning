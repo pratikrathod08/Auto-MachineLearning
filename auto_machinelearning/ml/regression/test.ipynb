{
 "cells": [
  {
   "cell_type": "code",
   "execution_count": 3,
   "metadata": {},
   "outputs": [],
   "source": [
    "from auto_machinelearning.ml.regression.components.data_ingestion import DataIngestion\n",
    "\n",
    "data_ingestion = DataIngestion(r\"D:\\PRATIK\\Product\\Auto-MachineLearning\\research\\output\\processed.csv\", file_type=\"csv\")"
   ]
  },
  {
   "cell_type": "code",
   "execution_count": 4,
   "metadata": {},
   "outputs": [],
   "source": [
    "artifacts = data_ingestion.run_data_ingestion()"
   ]
  },
  {
   "cell_type": "code",
   "execution_count": 5,
   "metadata": {},
   "outputs": [
    {
     "name": "stdout",
     "output_type": "stream",
     "text": [
      "✅ Full DataFrame:\n",
      "       area_type  availability  location  size  society  total_sqft  bath  \\\n",
      "0            3.0          40.0     419.0  13.0    464.0        70.0   2.0   \n",
      "1            2.0          80.0     317.0  19.0   2439.0      1288.0   5.0   \n",
      "2            0.0          80.0    1179.0  16.0    806.0       514.0   2.0   \n",
      "3            3.0          80.0     757.0  16.0   2186.0       602.0   3.0   \n",
      "4            3.0          80.0     716.0  13.0    806.0       239.0   2.0   \n",
      "...          ...           ...       ...   ...      ...         ...   ...   \n",
      "13315        0.0          80.0    1252.0  22.0    209.0      1499.0   4.0   \n",
      "13316        3.0          80.0    1004.0  18.0    806.0      1535.0   5.0   \n",
      "13317        0.0          80.0     972.0  13.0   1216.0       172.0   2.0   \n",
      "13318        3.0          32.0     907.0  18.0   2205.0      1680.0   4.0   \n",
      "13319        3.0          80.0     396.0   0.0    806.0      1747.0   1.0   \n",
      "\n",
      "        balcony   price  \n",
      "0      1.000000   39.07  \n",
      "1      3.000000  120.00  \n",
      "2      3.000000   62.00  \n",
      "3      1.000000   95.00  \n",
      "4      1.000000   51.00  \n",
      "...         ...     ...  \n",
      "13315  0.000000  231.00  \n",
      "13316  1.878179  400.00  \n",
      "13317  1.000000   60.00  \n",
      "13318  1.000000  488.00  \n",
      "13319  1.000000   17.00  \n",
      "\n",
      "[13320 rows x 9 columns]\n",
      "\n",
      "✅ Train DataFrame:\n",
      "       area_type  availability  location  size  society  total_sqft  bath  \\\n",
      "3411         3.0          80.0     757.0  16.0   2186.0       610.0   2.0   \n",
      "9142         3.0          80.0     346.0  13.0    806.0       369.0   2.0   \n",
      "1971         3.0          80.0     972.0  16.0    806.0       610.0   3.0   \n",
      "2608         2.0          80.0     194.0  19.0    806.0      1208.0   3.0   \n",
      "9635         0.0          40.0     658.0  13.0    773.0        28.0   2.0   \n",
      "...          ...           ...       ...   ...      ...         ...   ...   \n",
      "11964        2.0          80.0    1188.0  22.0    806.0       239.0   4.0   \n",
      "5191         3.0          69.0     707.0  16.0   2245.0       642.0   3.0   \n",
      "5390         3.0          80.0     443.0  13.0    806.0        74.0   2.0   \n",
      "860          2.0          80.0     972.0  24.0    806.0       239.0   4.0   \n",
      "7270         3.0          80.0    1080.0  16.0   1908.0       949.0   3.0   \n",
      "\n",
      "       balcony  price  \n",
      "3411       2.0   90.0  \n",
      "9142       2.0  111.0  \n",
      "1971       2.0   57.0  \n",
      "2608       2.0  370.0  \n",
      "9635       1.0   66.0  \n",
      "...        ...    ...  \n",
      "11964      1.0   99.0  \n",
      "5191       2.0  120.0  \n",
      "5390       1.0   48.5  \n",
      "860        2.0  125.0  \n",
      "7270       3.0   90.0  \n",
      "\n",
      "[10656 rows x 9 columns]\n",
      "\n",
      "✅ Test DataFrame:\n",
      "       area_type  availability  location  size  society  total_sqft  bath  \\\n",
      "8077         0.0          80.0     212.0  14.0    806.0        62.0   2.0   \n",
      "1602         3.0          80.0     986.0  16.0   1676.0       779.0   3.0   \n",
      "10498        0.0          80.0     513.0  13.0    806.0       119.0   2.0   \n",
      "3297         2.0          80.0     832.0  24.0    806.0       239.0   4.0   \n",
      "8893         0.0          26.0     336.0  19.0   1083.0      1224.0   3.0   \n",
      "...          ...           ...       ...   ...      ...         ...   ...   \n",
      "1082         3.0          32.0     121.0   0.0    806.0      1707.0   1.0   \n",
      "1671         0.0          80.0     523.0  22.0    806.0       884.0   6.0   \n",
      "4325         3.0          80.0      80.0  16.0    806.0       884.0   3.0   \n",
      "7375         3.0          80.0    1229.0  13.0    806.0       239.0   2.0   \n",
      "5152         2.0          80.0     948.0  17.0    806.0       170.0   3.0   \n",
      "\n",
      "       balcony  price  \n",
      "8077       1.0   64.8  \n",
      "1602       1.0  125.0  \n",
      "10498      1.0   60.0  \n",
      "3297       2.0  110.0  \n",
      "8893       1.0  210.0  \n",
      "...        ...    ...  \n",
      "1082       1.0   14.0  \n",
      "1671       0.0   44.5  \n",
      "4325       3.0   65.0  \n",
      "7375       2.0   52.0  \n",
      "5152       1.0  130.0  \n",
      "\n",
      "[2664 rows x 9 columns]\n"
     ]
    }
   ],
   "source": [
    "print(\"✅ Full DataFrame:\")\n",
    "print(artifacts.df)\n",
    "\n",
    "print(\"\\n✅ Train DataFrame:\")\n",
    "print(artifacts.train_df)\n",
    "\n",
    "print(\"\\n✅ Test DataFrame:\")\n",
    "print(artifacts.test_df)"
   ]
  },
  {
   "cell_type": "code",
   "execution_count": 4,
   "metadata": {},
   "outputs": [],
   "source": [
    "from auto_machinelearning.ml.regression.components.data_transformation import DataTransformation\n",
    "\n",
    "data_transformation = DataTransformation(artifacts, target_column=\"price\")\n"
   ]
  },
  {
   "cell_type": "code",
   "execution_count": 5,
   "metadata": {},
   "outputs": [],
   "source": [
    "data_transformation_artifacts = data_transformation.run_data_transformation()"
   ]
  },
  {
   "cell_type": "code",
   "execution_count": 6,
   "metadata": {},
   "outputs": [
    {
     "name": "stdout",
     "output_type": "stream",
     "text": [
      "X train : \n",
      "       area_type  availability  location  size  society  total_sqft  bath  \\\n",
      "3411         3.0          80.0     757.0  16.0   2186.0       610.0   2.0   \n",
      "9142         3.0          80.0     346.0  13.0    806.0       369.0   2.0   \n",
      "1971         3.0          80.0     972.0  16.0    806.0       610.0   3.0   \n",
      "2608         2.0          80.0     194.0  19.0    806.0      1208.0   3.0   \n",
      "9635         0.0          40.0     658.0  13.0    773.0        28.0   2.0   \n",
      "...          ...           ...       ...   ...      ...         ...   ...   \n",
      "11964        2.0          80.0    1188.0  22.0    806.0       239.0   4.0   \n",
      "5191         3.0          69.0     707.0  16.0   2245.0       642.0   3.0   \n",
      "5390         3.0          80.0     443.0  13.0    806.0        74.0   2.0   \n",
      "860          2.0          80.0     972.0  24.0    806.0       239.0   4.0   \n",
      "7270         3.0          80.0    1080.0  16.0   1908.0       949.0   3.0   \n",
      "\n",
      "       balcony  \n",
      "3411       2.0  \n",
      "9142       2.0  \n",
      "1971       2.0  \n",
      "2608       2.0  \n",
      "9635       1.0  \n",
      "...        ...  \n",
      "11964      1.0  \n",
      "5191       2.0  \n",
      "5390       1.0  \n",
      "860        2.0  \n",
      "7270       3.0  \n",
      "\n",
      "[10656 rows x 8 columns]\n",
      "X test : \n",
      "       area_type  availability  location  size  society  total_sqft  bath  \\\n",
      "8077         0.0          80.0     212.0  14.0    806.0        62.0   2.0   \n",
      "1602         3.0          80.0     986.0  16.0   1676.0       779.0   3.0   \n",
      "10498        0.0          80.0     513.0  13.0    806.0       119.0   2.0   \n",
      "3297         2.0          80.0     832.0  24.0    806.0       239.0   4.0   \n",
      "8893         0.0          26.0     336.0  19.0   1083.0      1224.0   3.0   \n",
      "...          ...           ...       ...   ...      ...         ...   ...   \n",
      "1082         3.0          32.0     121.0   0.0    806.0      1707.0   1.0   \n",
      "1671         0.0          80.0     523.0  22.0    806.0       884.0   6.0   \n",
      "4325         3.0          80.0      80.0  16.0    806.0       884.0   3.0   \n",
      "7375         3.0          80.0    1229.0  13.0    806.0       239.0   2.0   \n",
      "5152         2.0          80.0     948.0  17.0    806.0       170.0   3.0   \n",
      "\n",
      "       balcony  \n",
      "8077       1.0  \n",
      "1602       1.0  \n",
      "10498      1.0  \n",
      "3297       2.0  \n",
      "8893       1.0  \n",
      "...        ...  \n",
      "1082       1.0  \n",
      "1671       0.0  \n",
      "4325       3.0  \n",
      "7375       2.0  \n",
      "5152       1.0  \n",
      "\n",
      "[2664 rows x 8 columns]\n",
      "y train : \n",
      "       price\n",
      "3411    90.0\n",
      "9142   111.0\n",
      "1971    57.0\n",
      "2608   370.0\n",
      "9635    66.0\n",
      "...      ...\n",
      "11964   99.0\n",
      "5191   120.0\n",
      "5390    48.5\n",
      "860    125.0\n",
      "7270    90.0\n",
      "\n",
      "[10656 rows x 1 columns]\n",
      "y test : \n",
      "       price\n",
      "8077    64.8\n",
      "1602   125.0\n",
      "10498   60.0\n",
      "3297   110.0\n",
      "8893   210.0\n",
      "...      ...\n",
      "1082    14.0\n",
      "1671    44.5\n",
      "4325    65.0\n",
      "7375    52.0\n",
      "5152   130.0\n",
      "\n",
      "[2664 rows x 1 columns]\n"
     ]
    }
   ],
   "source": [
    "## X_train \n",
    "print(\"X train : \")\n",
    "print(data_transformation_artifacts.X_train)\n",
    "\n",
    "## X_test \n",
    "print(\"X test : \")\n",
    "print(data_transformation_artifacts.X_test)\n",
    "\n",
    "## y_train \n",
    "print(\"y train : \")\n",
    "print(data_transformation_artifacts.y_train) \n",
    "\n",
    "## y_test\n",
    "print(\"y test : \") \n",
    "print(data_transformation_artifacts.y_test)"
   ]
  },
  {
   "cell_type": "code",
   "execution_count": 7,
   "metadata": {},
   "outputs": [
    {
     "name": "stdout",
     "output_type": "stream",
     "text": [
      "Fitting 3 folds for each of 12 candidates, totalling 36 fits\n",
      "Fitting 3 folds for each of 6 candidates, totalling 18 fits\n"
     ]
    },
    {
     "name": "stderr",
     "output_type": "stream",
     "text": [
      "d:\\PRATIK\\Product\\Auto-MachineLearning\\venv\\Lib\\site-packages\\sklearn\\base.py:1365: DataConversionWarning: A column-vector y was passed when a 1d array was expected. Please change the shape of y to (n_samples,), for example using ravel().\n",
      "  return fit_method(estimator, *args, **kwargs)\n",
      "[Parallel(n_jobs=1)]: Done  49 tasks      | elapsed:    2.2s\n",
      "[Parallel(n_jobs=1)]: Done 100 out of 100 | elapsed:    4.6s finished\n",
      "[Parallel(n_jobs=1)]: Done  49 tasks      | elapsed:    0.1s\n",
      "[Parallel(n_jobs=1)]: Done 100 out of 100 | elapsed:    0.4s finished\n",
      "[Parallel(n_jobs=1)]: Done  49 tasks      | elapsed:    0.0s\n",
      "[Parallel(n_jobs=1)]: Done 100 out of 100 | elapsed:    0.0s finished\n"
     ]
    },
    {
     "name": "stdout",
     "output_type": "stream",
     "text": [
      "Fitting 3 folds for each of 4 candidates, totalling 12 fits\n"
     ]
    },
    {
     "name": "stderr",
     "output_type": "stream",
     "text": [
      "d:\\PRATIK\\Product\\Auto-MachineLearning\\venv\\Lib\\site-packages\\sklearn\\ensemble\\_gb.py:672: DataConversionWarning: A column-vector y was passed when a 1d array was expected. Please change the shape of y to (n_samples, ), for example using ravel().\n",
      "  y = column_or_1d(y, warn=True)  # TODO: Is this still required?\n"
     ]
    },
    {
     "name": "stdout",
     "output_type": "stream",
     "text": [
      "      Iter       Train Loss      OOB Improve   Remaining Time \n",
      "         1       20037.0147        1327.6621            1.39s\n",
      "         2       20612.0198        5226.8025            1.35s\n",
      "         3       19520.7116         638.2909            1.30s\n",
      "         4       17287.4145       -2740.7261            1.30s\n",
      "         5       16490.5029         337.9118            1.28s\n",
      "         6       18795.1347        7339.1724            1.27s\n",
      "         7       16125.3789       -4746.8613            1.25s\n",
      "         8       15834.5543         864.7116            1.22s\n",
      "         9       16780.0417        3404.8487            1.22s\n",
      "        10       16295.2359         -55.4491            1.20s\n",
      "        20       13227.3924        1443.1278            1.08s\n",
      "        30       10899.6433       -5005.6970            0.95s\n",
      "        40       10728.5115       -4768.3391            0.82s\n",
      "        50        8879.3278       -2844.1513            0.69s\n",
      "        60       10595.8205        1632.2863            0.55s\n",
      "        70       10273.6536         809.7993            0.41s\n",
      "        80        9270.5406        -771.5935            0.28s\n",
      "        90        8229.4744       -3332.5550            0.14s\n",
      "       100        9233.8798        2545.3602            0.00s\n",
      "Fitting 3 folds for each of 6 candidates, totalling 18 fits\n",
      "Fitting 3 folds for each of 3 candidates, totalling 9 fits\n"
     ]
    },
    {
     "name": "stderr",
     "output_type": "stream",
     "text": [
      "d:\\PRATIK\\Product\\Auto-MachineLearning\\venv\\Lib\\site-packages\\sklearn\\utils\\validation.py:1406: DataConversionWarning: A column-vector y was passed when a 1d array was expected. Please change the shape of y to (n_samples, ), for example using ravel().\n",
      "  y = column_or_1d(y, warn=True)\n"
     ]
    },
    {
     "name": "stdout",
     "output_type": "stream",
     "text": [
      "[LibSVM]"
     ]
    }
   ],
   "source": [
    "from auto_machinelearning.ml.regression.components.model_trainer import ModelTrainer\n",
    " \n",
    "model_trainer = ModelTrainer(data_transformation_artifacts)\n",
    "model_trainer_artifacts = model_trainer.train_model()"
   ]
  },
  {
   "cell_type": "code",
   "execution_count": 8,
   "metadata": {},
   "outputs": [
    {
     "name": "stdout",
     "output_type": "stream",
     "text": [
      "ModelTrainerArtifact(trained_model=SVR(degree=2, verbose=1), best_model_name='SVR', best_model_parameters={'C': 1.0, 'cache_size': 200, 'coef0': 0.0, 'degree': 2, 'epsilon': 0.1, 'gamma': 'scale', 'kernel': 'rbf', 'max_iter': -1, 'shrinking': True, 'tol': 0.001, 'verbose': 1}, models_report={'Decision Tree': 0.08783061710248896, 'Random Forest': 0.49969187237302626, 'Gradiant Boosting': 0.379720720567741, 'Ridge Regression': 0.22890257369358435, 'SVR': 0.04368964246508722}, train_metric_artifact=RegressionMetrixArtifacts(mse=21529.648705039348, rmse=np.float64(146.72984940031577), r2_score=0.0395096900008971), test_metric_artifact=RegressionMetrixArtifacts(mse=20360.36211110022, rmse=np.float64(142.6897407352758), r2_score=0.04368964246508722))\n"
     ]
    }
   ],
   "source": [
    "print(model_trainer_artifacts)"
   ]
  },
  {
   "cell_type": "code",
   "execution_count": 12,
   "metadata": {},
   "outputs": [
    {
     "name": "stdout",
     "output_type": "stream",
     "text": [
      "SVR(degree=2, verbose=1)\n"
     ]
    }
   ],
   "source": [
    "print(model_trainer_artifacts.trained_model)"
   ]
  },
  {
   "cell_type": "code",
   "execution_count": 11,
   "metadata": {},
   "outputs": [
    {
     "name": "stdout",
     "output_type": "stream",
     "text": [
      "Training Artifacts : \n",
      "RegressionMetrixArtifacts(mse=21529.648705039348, rmse=np.float64(146.72984940031577), r2_score=0.0395096900008971)\n",
      "Mean square error: \n",
      "21529.648705039348\n",
      "Root mse : \n",
      "146.72984940031577\n",
      "R2_Score : \n",
      "0.0395096900008971\n",
      "Models report : \n",
      "{'Decision Tree': 0.08783061710248896, 'Random Forest': 0.49969187237302626, 'Gradiant Boosting': 0.379720720567741, 'Ridge Regression': 0.22890257369358435, 'SVR': 0.04368964246508722}\n",
      "Best model name : \n",
      "SVR\n",
      "Best model parameters : \n",
      "{'C': 1.0, 'cache_size': 200, 'coef0': 0.0, 'degree': 2, 'epsilon': 0.1, 'gamma': 'scale', 'kernel': 'rbf', 'max_iter': -1, 'shrinking': True, 'tol': 0.001, 'verbose': 1}\n"
     ]
    }
   ],
   "source": [
    "print(\"Training Artifacts : \")\n",
    "print(model_trainer_artifacts.train_metric_artifact)\n",
    "\n",
    "print(\"Mean square error: \")\n",
    "print(model_trainer_artifacts.train_metric_artifact.mse)\n",
    "\n",
    "print(\"Root mse : \")\n",
    "print(model_trainer_artifacts.train_metric_artifact.rmse)\n",
    "\n",
    "print(\"R2_Score : \")\n",
    "print(model_trainer_artifacts.train_metric_artifact.r2_score)\n",
    "\n",
    "print(\"Models report : \")\n",
    "print(model_trainer_artifacts.models_report)\n",
    "\n",
    "print(\"Best model name : \")\n",
    "print(model_trainer_artifacts.best_model_name)\n",
    "\n",
    "print(\"Best model parameters : \")\n",
    "print(model_trainer_artifacts.best_model_parameters)"
   ]
  },
  {
   "cell_type": "code",
   "execution_count": 1,
   "metadata": {},
   "outputs": [],
   "source": [
    "## Import and run full pipeline \n",
    "\n",
    "from auto_machinelearning.ml.regression import AutoRegression\n",
    "\n",
    "regression = AutoRegression(path=r\"D:\\PRATIK\\Product\\Auto-MachineLearning\\research\\output\\processed.csv\", filetype=\"csv\", target_column=\"price\")"
   ]
  },
  {
   "cell_type": "code",
   "execution_count": 2,
   "metadata": {},
   "outputs": [
    {
     "name": "stdout",
     "output_type": "stream",
     "text": [
      "Fitting 3 folds for each of 192 candidates, totalling 576 fits\n",
      "Fitting 3 folds for each of 144 candidates, totalling 432 fits\n"
     ]
    },
    {
     "name": "stderr",
     "output_type": "stream",
     "text": [
      "d:\\PRATIK\\Product\\Auto-MachineLearning\\venv\\Lib\\site-packages\\sklearn\\base.py:1365: DataConversionWarning: A column-vector y was passed when a 1d array was expected. Please change the shape of y to (n_samples,), for example using ravel().\n",
      "  return fit_method(estimator, *args, **kwargs)\n",
      "[Parallel(n_jobs=1)]: Done  49 tasks      | elapsed:    0.7s\n",
      "[Parallel(n_jobs=1)]: Done 199 tasks      | elapsed:    3.3s\n",
      "[Parallel(n_jobs=1)]: Done 200 out of 200 | elapsed:    3.3s finished\n",
      "[Parallel(n_jobs=1)]: Done  49 tasks      | elapsed:    0.0s\n",
      "[Parallel(n_jobs=1)]: Done 199 tasks      | elapsed:    0.2s\n",
      "[Parallel(n_jobs=1)]: Done 200 out of 200 | elapsed:    0.2s finished\n",
      "[Parallel(n_jobs=1)]: Done  49 tasks      | elapsed:    0.0s\n",
      "[Parallel(n_jobs=1)]: Done 199 tasks      | elapsed:    0.0s\n",
      "[Parallel(n_jobs=1)]: Done 200 out of 200 | elapsed:    0.0s finished\n"
     ]
    },
    {
     "name": "stdout",
     "output_type": "stream",
     "text": [
      "Fitting 3 folds for each of 128 candidates, totalling 384 fits\n"
     ]
    },
    {
     "name": "stderr",
     "output_type": "stream",
     "text": [
      "d:\\PRATIK\\Product\\Auto-MachineLearning\\venv\\Lib\\site-packages\\sklearn\\ensemble\\_gb.py:672: DataConversionWarning: A column-vector y was passed when a 1d array was expected. Please change the shape of y to (n_samples, ), for example using ravel().\n",
      "  y = column_or_1d(y, warn=True)  # TODO: Is this still required?\n"
     ]
    },
    {
     "name": "stdout",
     "output_type": "stream",
     "text": [
      "      Iter       Train Loss      OOB Improve   Remaining Time \n",
      "         1       19905.2987        1752.2462            0.80s\n",
      "         2       19931.8862        6115.3280            0.79s\n",
      "         3       18895.0292        3125.7086            0.79s\n",
      "         4       16201.7557       -6280.4910            0.79s\n",
      "         5       18136.0096       11092.5804            0.80s\n",
      "         6       16782.3650       -3190.2127            0.80s\n",
      "         7       16102.2774         285.0844            0.79s\n",
      "         8       15543.4976         441.6706            0.77s\n",
      "         9       15088.1372         914.5045            0.74s\n",
      "        10       13428.3210       -4524.8189            0.72s\n",
      "        20       10698.5519       -5793.7799            0.68s\n",
      "        30       10232.0340          13.0880            0.64s\n",
      "        40        9478.7878        3960.6862            0.59s\n",
      "        50        8389.5297        -676.0714            0.55s\n",
      "        60        7638.8475         386.6300            0.52s\n",
      "        70        7189.1017       -2282.0786            0.48s\n",
      "        80        6942.2342        -378.8332            0.45s\n",
      "        90        7110.4731        -193.6816            0.41s\n",
      "       100        6231.8405        1302.1174            0.37s\n",
      "       200        4175.9964        -858.5879            0.00s\n",
      "Fitting 3 folds for each of 2 candidates, totalling 6 fits\n",
      "Fitting 3 folds for each of 180 candidates, totalling 540 fits\n"
     ]
    }
   ],
   "source": [
    "regression_result = regression.train_model()"
   ]
  },
  {
   "cell_type": "code",
   "execution_count": null,
   "metadata": {},
   "outputs": [
    {
     "data": {
      "text/plain": [
       "{'best_model_name': 'SVR',\n",
       " 'model': SVR(degree=2, verbose=1),\n",
       " 'model_params': {'C': 1.0,\n",
       "  'cache_size': 200,\n",
       "  'coef0': 0.0,\n",
       "  'degree': 2,\n",
       "  'epsilon': 0.1,\n",
       "  'gamma': 'scale',\n",
       "  'kernel': 'rbf',\n",
       "  'max_iter': -1,\n",
       "  'shrinking': True,\n",
       "  'tol': 0.001,\n",
       "  'verbose': 1},\n",
       " 'r2_score': 0.0395096900008971,\n",
       " 'rmse': np.float64(146.72984940031577),\n",
       " 'mse': 21529.648705039348,\n",
       " 'models_report': {'Decision Tree': 0.08445940076337832,\n",
       "  'Random Forest': 0.4897452353121984,\n",
       "  'Gradiant Boosting': 0.37193537777853714,\n",
       "  'Ridge Regression': 0.22890257369358435,\n",
       "  'SVR': 0.04368964246508722}}"
      ]
     },
     "execution_count": 3,
     "metadata": {},
     "output_type": "execute_result"
    }
   ],
   "source": [
    "regression_result"
   ]
  },
  {
   "cell_type": "code",
   "execution_count": null,
   "metadata": {},
   "outputs": [],
   "source": []
  }
 ],
 "metadata": {
  "kernelspec": {
   "display_name": "venv",
   "language": "python",
   "name": "python3"
  },
  "language_info": {
   "codemirror_mode": {
    "name": "ipython",
    "version": 3
   },
   "file_extension": ".py",
   "mimetype": "text/x-python",
   "name": "python",
   "nbconvert_exporter": "python",
   "pygments_lexer": "ipython3",
   "version": "3.12.3"
  },
  "orig_nbformat": 4
 },
 "nbformat": 4,
 "nbformat_minor": 2
}
